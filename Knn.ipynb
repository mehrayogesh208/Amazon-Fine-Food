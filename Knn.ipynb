{
 "cells": [
  {
   "cell_type": "markdown",
   "metadata": {},
   "source": [
    "# K-Nearest Neighbors:-"
   ]
  },
  {
   "cell_type": "code",
   "execution_count": 1,
   "metadata": {},
   "outputs": [
    {
     "name": "stderr",
     "output_type": "stream",
     "text": [
      "/Users/yogeshmehra/anaconda3/lib/python3.6/site-packages/sklearn/cross_validation.py:41: DeprecationWarning: This module was deprecated in version 0.18 in favor of the model_selection module into which all the refactored classes and functions are moved. Also note that the interface of the new CV iterators are different from that of this module. This module will be removed in 0.20.\n",
      "  \"This module will be removed in 0.20.\", DeprecationWarning)\n"
     ]
    }
   ],
   "source": [
    "import pickle\n",
    "import warnings\n",
    "warnings.filterwarnings(\"ignore\")\n",
    "\n",
    "import numpy as np\n",
    "import pandas as pd\n",
    "import sqlite3\n",
    "import matplotlib.pyplot as plt\n",
    "#from sklearn.cross_validation import train_test_split\n",
    "from sklearn.neighbors import KNeighborsClassifier\n",
    "from sklearn.metrics import accuracy_score\n",
    "from sklearn.model_selection import train_test_split\n",
    "#from sklearn.model_selection import cross_val_score\n",
    "from sklearn.cross_validation import cross_val_score\n",
    "from collections import Counter\n",
    "from sklearn.metrics import accuracy_score\n",
    "from sklearn import model_selection\n",
    "from sklearn import cross_validation\n",
    "import matplotlib.pyplot as plt"
   ]
  },
  {
   "cell_type": "code",
   "execution_count": 2,
   "metadata": {
    "collapsed": true
   },
   "outputs": [],
   "source": [
    "#Loading all the pickles files generated during preprocessing!!!\n",
    "#1.loading avgW2Vec files:-\n",
    "with open('test_avgw2v.pkl', 'rb') as f:\n",
    "       test_avgw2v = pickle.load(f)\n",
    "with open('train_avgw2v.pkl', 'rb') as f:\n",
    "        train_avgw2v = pickle.load(f)\n",
    "#with open('cv_avgw2v.pkl', 'rb') as f:\n",
    " #       cv_avgw2v = pickle.load(f)\n",
    "#2. loading tfidf files:-\n",
    "with open('testtfidf.pkl', 'rb') as f:\n",
    "        testtfidf = pickle.load(f)\n",
    "with open('traintfidf.pkl', 'rb') as f:\n",
    "        traintfidf = pickle.load(f)\n",
    "#with open('cvtfidf.pkl', 'rb') as f:\n",
    " #       cvtfidf = pickle.load(f)\n",
    "#3. loading Bow files:-\n",
    "with open('testbow.pkl', 'rb') as f:\n",
    "        testbow = pickle.load(f)\n",
    "with open('trainbow.pkl', 'rb') as f:\n",
    "        trainbow = pickle.load(f)\n",
    "#with open('cvbow.pkl', 'rb') as f:\n",
    " #       cvbow = pickle.load(f)"
   ]
  },
  {
   "cell_type": "code",
   "execution_count": 3,
   "metadata": {
    "collapsed": true
   },
   "outputs": [],
   "source": [
    "#loading test train and cv dataset:-\n",
    "with open('traindf.pkl', 'rb') as f:\n",
    "        train_df = pickle.load(f)\n",
    "with open('testdf.pkl', 'rb') as f:\n",
    "        test_df = pickle.load(f)\n",
    "#with open('cvdf.pkl', 'rb') as f:\n",
    " #       cv_df = pickle.load(f)"
   ]
  },
  {
   "cell_type": "code",
   "execution_count": 4,
   "metadata": {},
   "outputs": [
    {
     "data": {
      "text/plain": [
       "(12000, 20947)"
      ]
     },
     "execution_count": 4,
     "metadata": {},
     "output_type": "execute_result"
    }
   ],
   "source": [
    "testbow.shape"
   ]
  },
  {
   "cell_type": "markdown",
   "metadata": {},
   "source": [
    "# Distribution of Class label:-\n",
    "1.Train data:-\n"
   ]
  },
  {
   "cell_type": "code",
   "execution_count": 5,
   "metadata": {},
   "outputs": [
    {
     "data": {
      "image/png": "[encoded data removed]",
      "text/plain": [
       "<matplotlib.figure.Figure at 0x1a174bff60>"
      ]
     },
     "metadata": {},
     "output_type": "display_data"
    }
   ],
   "source": [
    "train_df['Score'].value_counts().plot(kind='bar')\n",
    "plt.show()"
   ]
  },
  {
   "cell_type": "markdown",
   "metadata": {},
   "source": [
    "2.Test data:-\n"
   ]
  },
  {
   "cell_type": "code",
   "execution_count": null,
   "metadata": {
    "collapsed": true
   },
   "outputs": [],
   "source": []
  },
  {
   "cell_type": "code",
   "execution_count": null,
   "metadata": {
    "collapsed": true
   },
   "outputs": [],
   "source": []
  },
  {
   "cell_type": "markdown",
   "metadata": {},
   "source": [
    "# Knn Classifier (Brute Force)"
   ]
  },
  {
   "cell_type": "code",
   "execution_count": 6,
   "metadata": {
    "collapsed": true
   },
   "outputs": [],
   "source": [
    "def brute_knn_classifier(X,Y):\n",
    "    neighbors = [i for i in range(1,50,3)]\n",
    "    cv_scores = []\n",
    "    for k in neighbors:\n",
    "        knn = KNeighborsClassifier(n_neighbors=k, algorithm = \"brute\")\n",
    "        scores = cross_val_score(knn,X,Y,cv = 10,scoring = 'accuracy')\n",
    "        cv_scores.append(scores.mean())\n",
    "    MSE = [1 - x for x in cv_scores]\n",
    "    optimal_k = neighbors[MSE.index(min(MSE))]\n",
    "    print(\"Optimal number of neighbor is\"+\" \"+str(optimal_k))\n",
    "    plt.plot(neighbors,MSE)\n",
    "    for xy in zip(neighbors, np.round(MSE,3)):\n",
    "        plt.annotate('(%s, %s)' % xy, xy=xy, textcoords='data')\n",
    "    plt.title(\"Misclassification error vs K\")\n",
    "    plt.xlabel('Number of neighbors K')\n",
    "    plt.ylabel('Misclassification Error')\n",
    "    plt.show()\n",
    "\n",
    "    print(\"the misclassification error for each k value is : \", np.round(MSE,3))\n",
    "    return optimal_k\n",
    "\n",
    "\n",
    "        "
   ]
  },
  {
   "cell_type": "markdown",
   "metadata": {},
   "source": [
    "# Bag_of_Words:-"
   ]
  },
  {
   "cell_type": "code",
   "execution_count": 7,
   "metadata": {},
   "outputs": [
    {
     "name": "stdout",
     "output_type": "stream",
     "text": [
      "Optimal number of neighbor is 10\n"
     ]
    },
    {
     "data": {
      "image/png": "[encoded data removed]",
      "text/plain": [
       "<matplotlib.figure.Figure at 0x1a17ced278>"
      ]
     },
     "metadata": {},
     "output_type": "display_data"
    },
    {
     "name": "stdout",
     "output_type": "stream",
     "text": [
      "the misclassification error for each k value is :  [0.188 0.13  0.109 0.108 0.109 0.109 0.109 0.11  0.11  0.109 0.109 0.11\n",
      " 0.11  0.11  0.11  0.11  0.11 ]\n"
     ]
    }
   ],
   "source": [
    "optimal_k = brute_knn_classifier(trainbow,train_df[\"Score\"])"
   ]
  },
  {
   "cell_type": "code",
   "execution_count": 8,
   "metadata": {
    "collapsed": true
   },
   "outputs": [],
   "source": [
    "knn_optimal = KNeighborsClassifier(n_neighbors=optimal_k)\n",
    "\n",
    "# fitting the model\n",
    "knn_optimal.fit(trainbow, train_df[\"Score\"])\n",
    "#knn_optimal.fit(bow_data, y_train)\n",
    "\n",
    "# predict the response\n",
    "pred = knn_optimal.predict(testbow)\n",
    "\n"
   ]
  },
  {
   "cell_type": "code",
   "execution_count": 9,
   "metadata": {
    "collapsed": true
   },
   "outputs": [],
   "source": [
    "pred_train = knn_optimal.predict(trainbow)"
   ]
  },
  {
   "cell_type": "code",
   "execution_count": 16,
   "metadata": {},
   "outputs": [
    {
     "name": "stdout",
     "output_type": "stream",
     "text": [
      "\n",
      "The train accuracy of the knn classifier for k = 10 is 89.642857%\n"
     ]
    }
   ],
   "source": [
    "#evaluate accuracy on test data\n",
    "acc_bow = accuracy_score(train_df[\"Score\"], pred_train) * 100\n",
    "print('\\nThe train accuracy of the knn classifier for k = %d is %f%%' % (optimal_k, acc_bow))"
   ]
  },
  {
   "cell_type": "code",
   "execution_count": 10,
   "metadata": {},
   "outputs": [
    {
     "name": "stdout",
     "output_type": "stream",
     "text": [
      "\n",
      "The accuracy of the knn classifier for k = 10 is 89.016667%\n"
     ]
    }
   ],
   "source": [
    "#evaluate accuracy on test data\n",
    "acc_bow = accuracy_score(test_df[\"Score\"], pred) * 100\n",
    "print('\\nThe accuracy of the knn classifier for k = %d is %f%%' % (optimal_k, acc_bow))"
   ]
  },
  {
   "cell_type": "code",
   "execution_count": 11,
   "metadata": {},
   "outputs": [
    {
     "data": {
      "text/plain": [
       "scipy.sparse.csr.csr_matrix"
      ]
     },
     "execution_count": 11,
     "metadata": {},
     "output_type": "execute_result"
    }
   ],
   "source": [
    "type(trainbow)"
   ]
  },
  {
   "cell_type": "code",
   "execution_count": 12,
   "metadata": {
    "collapsed": true
   },
   "outputs": [],
   "source": [
    "knn = KNeighborsClassifier(n_neighbors=1, algorithm = \"brute\")\n",
    "scores = cross_val_score(knn,trainbow,train_df[\"Score\"],cv = 10,scoring = 'accuracy')"
   ]
  },
  {
   "cell_type": "code",
   "execution_count": 13,
   "metadata": {},
   "outputs": [
    {
     "name": "stdout",
     "output_type": "stream",
     "text": [
      "[0.84321429 0.81642857 0.8        0.79571429 0.78785714 0.81464286\n",
      " 0.81107143 0.81392857 0.82142857 0.81107143]\n"
     ]
    }
   ],
   "source": [
    "print(scores)"
   ]
  },
  {
   "cell_type": "code",
   "execution_count": 14,
   "metadata": {},
   "outputs": [
    {
     "name": "stdout",
     "output_type": "stream",
     "text": [
      "hi\n"
     ]
    }
   ],
   "source": [
    "print(\"hi\")"
   ]
  },
  {
   "cell_type": "code",
   "execution_count": null,
   "metadata": {
    "collapsed": true
   },
   "outputs": [],
   "source": []
  }
 ],
 "metadata": {
  "kernelspec": {
   "display_name": "Python 3",
   "language": "python",
   "name": "python3"
  },
  "language_info": {
   "codemirror_mode": {
    "name": "ipython",
    "version": 3
   },
   "file_extension": ".py",
   "mimetype": "text/x-python",
   "name": "python",
   "nbconvert_exporter": "python",
   "pygments_lexer": "ipython3",
   "version": "3.6.3"
  }
 },
 "nbformat": 4,
 "nbformat_minor": 2
}
